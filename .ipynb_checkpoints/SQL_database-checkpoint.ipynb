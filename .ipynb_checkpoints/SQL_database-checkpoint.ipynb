{
 "cells": [
  {
   "cell_type": "markdown",
   "id": "4128bcac-feb4-4088-a9c2-7500fe3a96f5",
   "metadata": {},
   "source": [
    "# csv파일 데이터 SQL서버에 옮기기"
   ]
  },
  {
   "cell_type": "code",
   "execution_count": 4,
   "id": "fa267eac-3e5f-4ec8-b481-3c66a5d548d3",
   "metadata": {},
   "outputs": [],
   "source": [
    "import csv\n",
    "import pymysql"
   ]
  },
  {
   "cell_type": "code",
   "execution_count": null,
   "id": "5c8ea3b4-51b6-40c0-977f-afcb46bf4382",
   "metadata": {},
   "outputs": [],
   "source": [
    "conn = pymysql.connect(\n",
    "    host = \"127.0.0.1\",\n",
    "    user = \"user이름\",\n",
    "    password = \"비밀번호\",\n",
    "    database = \"olist\")"
   ]
  },
  {
   "cell_type": "code",
   "execution_count": 3,
   "id": "444131ee-0cfd-4924-993a-27226a70d6d4",
   "metadata": {},
   "outputs": [],
   "source": [
    "def data_send(path,sql):\n",
    "    with open(path) as fr:\n",
    "        reader = csv.reader(fr)\n",
    "        next(reader)\n",
    "        buffer = []\n",
    "        batchsize = 10000\n",
    "\n",
    "        for row in reader:\n",
    "            row = [x if x else None for x in row]\n",
    "            buffer.append(row)\n",
    "            if len(buffer) == batchsize:\n",
    "                write_data(sql,buffer)\n",
    "                buffer = []\n",
    "        write_data(sql,buffer)"
   ]
  },
  {
   "cell_type": "code",
   "execution_count": null,
   "id": "b0c5e8cd-446d-4801-9f53-18c1f008afce",
   "metadata": {},
   "outputs": [],
   "source": [
    "def write_data(sql,data):\n",
    "    with conn.cursor() as cursor:\n",
    "        cursor.executemany(sql, data)\n",
    "        conn.commit()"
   ]
  },
  {
   "cell_type": "code",
   "execution_count": null,
   "id": "683ea3a0-0cd0-44c1-9bbc-cd3dee7095e0",
   "metadata": {},
   "outputs": [],
   "source": [
    "write_category_name_translation_sql = \"\"\"\n",
    "INSERT IGNORE INTO\n",
    "    category_name_translation\n",
    "VALUES\n",
    "    (%s,%s)\n",
    "\"\"\"\n",
    "\n",
    "write_customers_sql = \"\"\"\n",
    "INSERT IGNORE INTO\n",
    "    customers\n",
    "VALUES\n",
    "    (%s,%s,%s,%s,%s)\n",
    "\"\"\"\n",
    "write_geolocation_sql = \"\"\"\n",
    "INSERT IGNORE INTO\n",
    "    geolocation\n",
    "VALUES\n",
    "    (%s,%s,%s,%s,%s)\n",
    "\"\"\"\n",
    "write_order_items_sql = \"\"\"\n",
    "INSERT IGNORE INTO\n",
    "    order_items\n",
    "VALUES\n",
    "    (%s,%s,%s,%s,%s,%s,%s)\n",
    "\"\"\"\n",
    "write_order_payments_sql = \"\"\"\n",
    "INSERT IGNORE INTO\n",
    "    order_payments(order_id, payment_sequential, payment_type,payment_installments,payment_value)\n",
    "VALUES\n",
    "    (%s,%s,%s,%s,%s)\n",
    "\"\"\"\n",
    "write_products_sql = \"\"\"\n",
    "INSERT IGNORE INTO\n",
    "    products\n",
    "VALUES\n",
    "    (%s,%s,%s,%s,%s,%s,%s,%s,%s)\n",
    "\"\"\"\n",
    "write_sellers_sql = \"\"\"\n",
    "INSERT IGNORE INTO\n",
    "    sellers\n",
    "VALUES\n",
    "    (%s,%s,%s,%s)\n",
    "\"\"\"\n",
    "write_order_reviews_sql = \"\"\"\n",
    "INSERT IGNORE INTO\n",
    "    reviews\n",
    "VALUES\n",
    "    (%s,%s,%s,%s,%s,%s,%s)\n",
    "\"\"\"\n",
    "write_orders_sql = \"\"\"\n",
    "INSERT IGNORE INTO\n",
    "    orders\n",
    "VALUES\n",
    "    (%s,%s,%s,%s,%s,%s,%s,%s)\n",
    "\"\"\""
   ]
  },
  {
   "cell_type": "code",
   "execution_count": null,
   "id": "f56d39f5-f085-4131-8380-8ce2ed2b0dd9",
   "metadata": {},
   "outputs": [],
   "source": [
    "data_send('./data/product_category_name_translation.csv',write_category_name_translation_sql)\n",
    "data_send('./data/olist_customers_dataset.csv',write_customers_sql)\n",
    "data_send('./data/olist_geolocation_dataset.csv',write_geolocation_sql)\n",
    "data_send('./data/olist_order_items_dataset.csv',write_order_items_sql)\n",
    "data_send('./data/olist_order_payments_dataset.csv',write_order_payments_sql)\n",
    "data_send('./data/olist_products_dataset.csv',write_products_sql)\n",
    "data_send('./data/olist_sellers_dataset.csv',write_sellers_sql)\n",
    "data_send('./data/olist_order_reviews_dataset.csv',write_sellers_sql)\n",
    "data_send('./data/olist_orders_dataset.csv',write_sellers_sql)"
   ]
  }
 ],
 "metadata": {
  "kernelspec": {
   "display_name": "Python 3 (ipykernel)",
   "language": "python",
   "name": "python3"
  },
  "language_info": {
   "codemirror_mode": {
    "name": "ipython",
    "version": 3
   },
   "file_extension": ".py",
   "mimetype": "text/x-python",
   "name": "python",
   "nbconvert_exporter": "python",
   "pygments_lexer": "ipython3",
   "version": "3.11.5"
  }
 },
 "nbformat": 4,
 "nbformat_minor": 5
}
