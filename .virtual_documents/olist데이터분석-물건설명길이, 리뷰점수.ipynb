import pandas as pd
import numpy as np
import matplotlib.pyplot as plt


from matplotlib import font_manager, rc

plt.rc("font", family="AppleGothic")


reviews = pd.read_csv("/Users/ayounglee/Desktop/multicampus/olist 데이터 분석/olist/reviews.csv")


reviews


order_items = pd.read_csv("/Users/ayounglee/Desktop/multicampus/olist 데이터 분석/olist/order_items.csv")


order_items


products = pd.read_csv("/Users/ayounglee/Desktop/multicampus/olist 데이터 분석/olist/products.csv")


products


category_name_translation = pd.read_csv("/Users/ayounglee/Desktop/multicampus/olist 데이터 분석/olist/category_name_translation.csv")


category_name_translation


review_item = pd.read_csv("/Users/ayounglee/Desktop/multicampus/olist 데이터 분석/가설설정(제품리뷰정보)/review_item.csv")


review_item


import pymysql


conn = pymysql.connect(
    host = "127.0.0.1",
    user = "root",
    password = "ay1511901!",
    database = "olist"
)





read_review_avg_sql = """
with review_item as
(SELECT
	reviews.review_id,
    reviews.order_id,
    reviews.review_score,
    order_items.product_id
FROM
	reviews
LEFT JOIN
	order_items
ON
	reviews.order_id = order_items.order_id),
    review_product AS
(SELECT
    review_item.review_score,
    products.product_description_lenght,
    products.product_photos_qty
FROM
	review_item
LEFT JOIN
	products
ON
	review_item.product_id = products.product_id)
SELECT
	review_product.review_score,
    AVG(review_product.product_description_lenght) AS AVREAGE_description_lenght,
    AVG(review_product.product_photos_qty) AS AVREAGE_photos
FROM
	review_product
GROUP BY
	review_product.review_score
ORDER BY
	review_product.review_score;
"""


with conn.cursor() as cursor:
    cursor.execute(read_review_avg_sql)
    result = cursor.fetchall()
    print(result)


review_avg = pd.read_sql(read_review_avg_sql,conn)


review_avg


review_avg.set_index("review_score")


import numpy as np


review_avg.set_index("review_score")[["AVREAGE_description_lenght"]].plot(marker="o",markersize = 3)
plt.title('리뷰 점수별 평균 물건 설명문 길이')
plt.xlabel("리뷰 점수")
plt.ylabel("평균 물건 설명문 길이")
plt.xticks(np.arange(1, 6, 1))
_=plt.xticks(rotation = 0)


review_avg.set_index("review_score")[["AVREAGE_photos"]].plot(marker="o",markersize = 3)
plt.title('리뷰 점수별 평균 물건 사진 수')
plt.xlabel("리뷰 점수")
plt.ylabel("평균 물건 사진 수")
plt.xticks(np.arange(1, 6, 1))
_=plt.xticks(rotation = 0)


read_review_avg_group_sql='''WITH review_item AS (
    SELECT
        reviews.review_id,
        reviews.order_id,
        reviews.review_score,
        order_items.product_id
    FROM
        reviews
    LEFT JOIN
        order_items
    ON
        reviews.order_id = order_items.order_id
),
review_product AS (
    SELECT
        review_item.review_score,
        products.product_description_lenght,
        products.product_photos_qty
    FROM
        review_item
    LEFT JOIN
        products
    ON
        review_item.product_id = products.product_id
),
review_grouped AS (
    SELECT
        CASE
            WHEN review_score >= 3 THEN '3점 이상'
            ELSE '3점 이하'
        END AS score_group,
        product_description_lenght,
        product_photos_qty
    FROM
        review_product
)
SELECT
    score_group,
    AVG(product_description_lenght) AS AVERAGE_description_lenght,
    AVG(product_photos_qty) AS AVERAGE_photos
FROM
    review_grouped
GROUP BY
    score_group
ORDER BY
    score_group;'''



review_group_avg = pd.read_sql(read_review_avg_group_sql,conn)


review_group_avg = review_group_avg.set_index('score_group')


review_group_avg


# 첫 번째 y축을 사용하여 막대 그래프 생성
fig, ax1 = plt.subplots()

ax1.bar(review_group_avg.index, review_group_avg['AVERAGE_description_lenght'], color='b', alpha=0.7)
ax1.set_xlabel('Review Score Group')
ax1.set_ylabel('Average Description Length', color='b')
ax1.tick_params(axis='y', labelcolor='b')

# 두 번째 y축을 추가하여 선 그래프 생성
ax2 = ax1.twinx()
ax2.plot(review_group_avg.index, review_group_avg['AVERAGE_photos'], color='r', marker='o')
ax2.set_ylabel('Average Photos', color='r')
ax2.tick_params(axis='y', labelcolor='r')

# 그래프 제목 추가
plt.title('Average Description Length and Average Photos by Review Score Group')

# 그래프 표시
plt.show()





read_3_over_sql = """
WITH review_item AS (
    SELECT
        reviews.review_id,
        reviews.order_id,
        reviews.review_score,
        order_items.product_id
    FROM
        reviews
    LEFT JOIN
        order_items
    ON
        reviews.order_id = order_items.order_id
),
review_product AS (
    SELECT
        review_item.review_score,
        products.product_description_lenght,
        products.product_photos_qty
    FROM
        review_item
    LEFT JOIN
        products
    ON
        review_item.product_id = products.product_id
),
    SELECT
        review_score,
        product_description_lenght,
        product_photos_qty
    FROM
        review_product
    WHERE
        review_score >= 3
"""


read_3_less_sql = """
WITH review_item AS (
    SELECT
        reviews.review_id,
        reviews.order_id,
        reviews.review_score,
        order_items.product_id
    FROM
        reviews
    LEFT JOIN
        order_items
    ON
        reviews.order_id = order_items.order_id
),

    SELECT
        review_item.review_score,
        products.product_description_lenght,
        products.product_photos_qty
    FROM
        review_item
    LEFT JOIN
        products
    ON
        review_item.product_id = products.product_id

"""


score_3_over = pd.read_sql(read_3_over_sql,conn)



